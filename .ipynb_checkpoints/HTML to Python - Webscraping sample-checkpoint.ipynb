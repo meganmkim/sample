{
 "cells": [
  {
   "cell_type": "code",
   "execution_count": 1,
   "id": "b19761e1",
   "metadata": {},
   "outputs": [],
   "source": [
    "import requests"
   ]
  },
  {
   "cell_type": "code",
   "execution_count": 3,
   "id": "099e59cc",
   "metadata": {},
   "outputs": [
    {
     "data": {
      "text/plain": [
       "<Response [200]>"
      ]
     },
     "execution_count": 3,
     "metadata": {},
     "output_type": "execute_result"
    }
   ],
   "source": [
    "example_url = requests.get(\"https://example.com\")\n",
    "example_url"
   ]
  },
  {
   "cell_type": "code",
   "execution_count": 4,
   "id": "f4a7a509",
   "metadata": {},
   "outputs": [
    {
     "name": "stdout",
     "output_type": "stream",
     "text": [
      "<!doctype html>\n",
      "<html>\n",
      "<head>\n",
      "    <title>Example Domain</title>\n",
      "\n",
      "    <meta charset=\"utf-8\" />\n",
      "    <meta http-equiv=\"Content-type\" content=\"text/html; charset=utf-8\" />\n",
      "    <meta name=\"viewport\" content=\"width=device-width, initial-scale=1\" />\n",
      "    <style type=\"text/css\">\n",
      "    body {\n",
      "        background-color: #f0f0f2;\n",
      "        margin: 0;\n",
      "        padding: 0;\n",
      "        font-family: -apple-system, system-ui, BlinkMacSystemFont, \"Segoe UI\", \"Open Sans\", \"Helvetica Neue\", Helvetica, Arial, sans-serif;\n",
      "        \n",
      "    }\n",
      "    div {\n",
      "        width: 600px;\n",
      "        margin: 5em auto;\n",
      "        padding: 2em;\n",
      "        background-color: #fdfdff;\n",
      "        border-radius: 0.5em;\n",
      "        box-shadow: 2px 3px 7px 2px rgba(0,0,0,0.02);\n",
      "    }\n",
      "    a:link, a:visited {\n",
      "        color: #38488f;\n",
      "        text-decoration: none;\n",
      "    }\n",
      "    @media (max-width: 700px) {\n",
      "        div {\n",
      "            margin: 0 auto;\n",
      "            width: auto;\n",
      "        }\n",
      "    }\n",
      "    </style>    \n",
      "</head>\n",
      "\n",
      "<body>\n",
      "<div>\n",
      "    <h1>Example Domain</h1>\n",
      "    <p>This domain is for use in illustrative examples in documents. You may use this\n",
      "    domain in literature without prior coordination or asking for permission.</p>\n",
      "    <p><a href=\"https://www.iana.org/domains/example\">More information...</a></p>\n",
      "</div>\n",
      "</body>\n",
      "</html>\n",
      "\n"
     ]
    }
   ],
   "source": [
    "example_html = example_url.text\n",
    "print(example_html)"
   ]
  },
  {
   "cell_type": "code",
   "execution_count": 9,
   "id": "0caf8fd4",
   "metadata": {},
   "outputs": [
    {
     "name": "stdout",
     "output_type": "stream",
     "text": [
      "Requirement already satisfied: beautifulsoup4 in /Users/megankim/.pyenv/versions/3.10.11/lib/python3.10/site-packages (4.12.2)\r\n",
      "Requirement already satisfied: soupsieve>1.2 in /Users/megankim/.pyenv/versions/3.10.11/lib/python3.10/site-packages (from beautifulsoup4) (2.4.1)\r\n"
     ]
    }
   ],
   "source": [
    "!pip install beautifulsoup4"
   ]
  },
  {
   "cell_type": "code",
   "execution_count": 16,
   "id": "ff606144",
   "metadata": {},
   "outputs": [],
   "source": [
    "from bs4 import BeautifulSoup"
   ]
  },
  {
   "cell_type": "code",
   "execution_count": 17,
   "id": "e967a77c",
   "metadata": {},
   "outputs": [
    {
     "data": {
      "text/plain": [
       "bs4.BeautifulSoup"
      ]
     },
     "execution_count": 17,
     "metadata": {},
     "output_type": "execute_result"
    }
   ],
   "source": [
    "soup = BeautifulSoup(example_html)\n",
    "type(soup)"
   ]
  },
  {
   "cell_type": "code",
   "execution_count": 18,
   "id": "62a79d34",
   "metadata": {},
   "outputs": [
    {
     "data": {
      "text/plain": [
       "list"
      ]
     },
     "execution_count": 18,
     "metadata": {},
     "output_type": "execute_result"
    }
   ],
   "source": [
    "type([1, 2, 3])"
   ]
  },
  {
   "cell_type": "code",
   "execution_count": 19,
   "id": "ed10268c",
   "metadata": {},
   "outputs": [
    {
     "data": {
      "text/plain": [
       "<title>Example Domain</title>"
      ]
     },
     "execution_count": 19,
     "metadata": {},
     "output_type": "execute_result"
    }
   ],
   "source": [
    "soup.title"
   ]
  },
  {
   "cell_type": "code",
   "execution_count": 21,
   "id": "147812be",
   "metadata": {},
   "outputs": [
    {
     "data": {
      "text/plain": [
       "<title>Example Domain</title>"
      ]
     },
     "execution_count": 21,
     "metadata": {},
     "output_type": "execute_result"
    }
   ],
   "source": [
    "#Title nested under head so the output will be the same as above\n",
    "soup.head.title"
   ]
  },
  {
   "cell_type": "code",
   "execution_count": 23,
   "id": "64c4a488",
   "metadata": {},
   "outputs": [
    {
     "data": {
      "text/plain": [
       "<p>This domain is for use in illustrative examples in documents. You may use this\n",
       "    domain in literature without prior coordination or asking for permission.</p>"
      ]
     },
     "execution_count": 23,
     "metadata": {},
     "output_type": "execute_result"
    }
   ],
   "source": [
    "soup.body.p"
   ]
  },
  {
   "cell_type": "code",
   "execution_count": 26,
   "id": "faa3ce3f",
   "metadata": {},
   "outputs": [
    {
     "data": {
      "text/plain": [
       "[<p>This domain is for use in illustrative examples in documents. You may use this\n",
       "     domain in literature without prior coordination or asking for permission.</p>,\n",
       " <p><a href=\"https://www.iana.org/domains/example\">More information...</a></p>]"
      ]
     },
     "execution_count": 26,
     "metadata": {},
     "output_type": "execute_result"
    }
   ],
   "source": [
    "#.find_all(tagname) -->to output all values of a specific attribute (e.g. 'p', 'a', 'h1', etc)\n",
    "all_p_tags = soup.body.find_all('p')\n",
    "all_p_tags"
   ]
  },
  {
   "cell_type": "code",
   "execution_count": 27,
   "id": "d3d6b1e5",
   "metadata": {},
   "outputs": [
    {
     "name": "stdout",
     "output_type": "stream",
     "text": [
      "Para. 1: This domain is for use in illustrative examples in documents. You may use this\n",
      "    domain in literature without prior coordination or asking for permission.\n",
      "---\n",
      "Para. 2: More information...\n",
      "---\n"
     ]
    }
   ],
   "source": [
    "#enumerate is giving item and position \n",
    "for i, p in enumerate (all_p_tags):\n",
    "    print(f\"Para. {i+1}: {p.text}\")\n",
    "    print(\"---\")"
   ]
  },
  {
   "cell_type": "code",
   "execution_count": 28,
   "id": "3312b9df",
   "metadata": {},
   "outputs": [
    {
     "data": {
      "text/plain": [
       "'https://www.iana.org/domains/example'"
      ]
     },
     "execution_count": 28,
     "metadata": {},
     "output_type": "execute_result"
    }
   ],
   "source": [
    "#extracting attributes: element['attribute_name']\n",
    "a_tag = soup.body.a #just getting the first a\n",
    "a_tag[\"href\"]"
   ]
  },
  {
   "cell_type": "code",
   "execution_count": 29,
   "id": "c27a62e6",
   "metadata": {},
   "outputs": [
    {
     "name": "stdout",
     "output_type": "stream",
     "text": [
      "Collecting lxml\n",
      "  Downloading lxml-4.9.2.tar.gz (3.7 MB)\n",
      "\u001b[2K     \u001b[90m━━━━━━━━━━━━━━━━━━━━━━━━━━━━━━━━━━━━━━━━\u001b[0m \u001b[32m3.7/3.7 MB\u001b[0m \u001b[31m6.4 MB/s\u001b[0m eta \u001b[36m0:00:00\u001b[0m00:01\u001b[0m00:01\u001b[0mm\n",
      "\u001b[?25h  Installing build dependencies ... \u001b[?25ldone\n",
      "\u001b[?25h  Getting requirements to build wheel ... \u001b[?25ldone\n",
      "\u001b[?25h  Preparing metadata (pyproject.toml) ... \u001b[?25ldone\n",
      "\u001b[?25hBuilding wheels for collected packages: lxml\n",
      "  Building wheel for lxml (pyproject.toml) ... \u001b[?25ldone\n",
      "\u001b[?25h  Created wheel for lxml: filename=lxml-4.9.2-cp310-cp310-macosx_12_0_arm64.whl size=1677375 sha256=99040a5e6142997df45055898b336275f2e92226a92ee5dd536329c8c29a72cf\n",
      "  Stored in directory: /Users/megankim/Library/Caches/pip/wheels/5a/51/0e/95b4a6ddee4a616530c36aeb03dafb5e04183756d9973a7d5d\n",
      "Successfully built lxml\n",
      "Installing collected packages: lxml\n",
      "Successfully installed lxml-4.9.2\n"
     ]
    }
   ],
   "source": [
    "!pip install lxml"
   ]
  },
  {
   "cell_type": "code",
   "execution_count": 32,
   "id": "a6e37c96",
   "metadata": {},
   "outputs": [],
   "source": [
    "import lxml.html"
   ]
  },
  {
   "cell_type": "code",
   "execution_count": 33,
   "id": "29bab0ee",
   "metadata": {},
   "outputs": [
    {
     "data": {
      "text/plain": [
       "lxml.html.HtmlElement"
      ]
     },
     "execution_count": 33,
     "metadata": {},
     "output_type": "execute_result"
    }
   ],
   "source": [
    "#convert HTML text to an lxml.html.HtmlElement object\n",
    "dom = lxml.html.fromstring(example_html)\n",
    "type(dom)"
   ]
  },
  {
   "cell_type": "code",
   "execution_count": 34,
   "id": "f0d6b67b",
   "metadata": {},
   "outputs": [
    {
     "data": {
      "text/plain": [
       "<Element title at 0x107d96d40>"
      ]
     },
     "execution_count": 34,
     "metadata": {},
     "output_type": "execute_result"
    }
   ],
   "source": [
    "#This is equivalent to soup.head.title\n",
    "dom.head.find('title')"
   ]
  },
  {
   "cell_type": "code",
   "execution_count": 36,
   "id": "c705676c",
   "metadata": {},
   "outputs": [
    {
     "data": {
      "text/plain": [
       "<Element p at 0x107e7b740>"
      ]
     },
     "execution_count": 36,
     "metadata": {},
     "output_type": "execute_result"
    }
   ],
   "source": [
    "#Get the text of that tag\n",
    "#How would you get the <p> tags? Cannot get it because it's nested\n",
    "dom.body.find('p.')\n",
    "\n",
    "#use the slash to find your way into a tag\n",
    "dom.body.find('div/p')"
   ]
  },
  {
   "cell_type": "code",
   "execution_count": 37,
   "id": "fd93f7a5",
   "metadata": {},
   "outputs": [
    {
     "data": {
      "text/plain": [
       "'Example Domain'"
      ]
     },
     "execution_count": 37,
     "metadata": {},
     "output_type": "execute_result"
    }
   ],
   "source": [
    "#need to add '.text' to print out words\n",
    "dom.head.find('title').text"
   ]
  },
  {
   "cell_type": "code",
   "execution_count": 41,
   "id": "5d5fd47e",
   "metadata": {},
   "outputs": [
    {
     "data": {
      "text/plain": [
       "'https://www.iana.org/domains/example'"
      ]
     },
     "execution_count": 41,
     "metadata": {},
     "output_type": "execute_result"
    }
   ],
   "source": [
    "#attributes using lxml\n",
    "a_tag = dom.body.find('div/p/a')\n",
    "a_tag.attrib['href']"
   ]
  },
  {
   "cell_type": "code",
   "execution_count": 42,
   "id": "e672be5b",
   "metadata": {},
   "outputs": [
    {
     "name": "stdout",
     "output_type": "stream",
     "text": [
      "Collecting cssselect\n",
      "  Downloading cssselect-1.2.0-py2.py3-none-any.whl (18 kB)\n",
      "Installing collected packages: cssselect\n",
      "Successfully installed cssselect-1.2.0\n",
      "Note: you may need to restart the kernel to use updated packages.\n"
     ]
    }
   ],
   "source": [
    "pip install cssselect"
   ]
  },
  {
   "cell_type": "code",
   "execution_count": 43,
   "id": "d8ee3a8d",
   "metadata": {},
   "outputs": [
    {
     "data": {
      "text/plain": [
       "[<Element title at 0x107d96d40>]"
      ]
     },
     "execution_count": 43,
     "metadata": {},
     "output_type": "execute_result"
    }
   ],
   "source": [
    "#will always return a list\n",
    "dom.cssselect('title')"
   ]
  },
  {
   "cell_type": "code",
   "execution_count": 44,
   "id": "3282dbf8",
   "metadata": {},
   "outputs": [
    {
     "data": {
      "text/plain": [
       "'Example Domain'"
      ]
     },
     "execution_count": 44,
     "metadata": {},
     "output_type": "execute_result"
    }
   ],
   "source": [
    "dom.cssselect('title')[0].text_content()"
   ]
  },
  {
   "cell_type": "code",
   "execution_count": 47,
   "id": "2e0354ab",
   "metadata": {},
   "outputs": [
    {
     "data": {
      "text/plain": [
       "[<Element p at 0x107e7b740>, <Element p at 0x107fb83b0>]"
      ]
     },
     "execution_count": 47,
     "metadata": {},
     "output_type": "execute_result"
    }
   ],
   "source": [
    "dom.cssselect('p')"
   ]
  },
  {
   "cell_type": "code",
   "execution_count": 48,
   "id": "71619a20",
   "metadata": {},
   "outputs": [
    {
     "data": {
      "text/plain": [
       "'This domain is for use in illustrative examples in documents. You may use this\\n    domain in literature without prior coordination or asking for permission.'"
      ]
     },
     "execution_count": 48,
     "metadata": {},
     "output_type": "execute_result"
    }
   ],
   "source": [
    "dom.cssselect('p')[0].text_content()"
   ]
  },
  {
   "cell_type": "code",
   "execution_count": 49,
   "id": "30b12eb0",
   "metadata": {},
   "outputs": [
    {
     "data": {
      "text/plain": [
       "[<Element h1 at 0x10a52bab0>,\n",
       " <Element p at 0x107e7b740>,\n",
       " <Element p at 0x107fb83b0>]"
      ]
     },
     "execution_count": 49,
     "metadata": {},
     "output_type": "execute_result"
    }
   ],
   "source": [
    "#Will give a list that matches either of those texts- will return elements in the order that it exists in the page\n",
    "dom.cssselect('p, h1')"
   ]
  },
  {
   "cell_type": "code",
   "execution_count": 52,
   "id": "cdfb5c21",
   "metadata": {},
   "outputs": [
    {
     "name": "stdout",
     "output_type": "stream",
     "text": [
      "<!DOCTYPE html>\n",
      "<html>\n",
      "<head>\n",
      "<title>Jonathan Soma makes things</title>\n",
      "<style>\n",
      "#content {\n",
      "width: 700px;\n",
      "color: #333;\n",
      "margin: 0 auto;\n",
      "padding-bottom: 100px;\n",
      "padding-top: 100px;\n",
      "font-family: Georgia, s\n"
     ]
    }
   ],
   "source": [
    "# SAMPLE EXERCISE -JONATHAN SOMA'S WEBSITE\n",
    "\n",
    "soma_html = requests.get('https://jonathansoma.com/').text\n",
    "print(soma_html[:200])"
   ]
  },
  {
   "cell_type": "code",
   "execution_count": 53,
   "id": "8ec114ba",
   "metadata": {},
   "outputs": [],
   "source": [
    "soma_dom = lxml.html.fromstring(soma_html)"
   ]
  },
  {
   "cell_type": "code",
   "execution_count": 56,
   "id": "731615be",
   "metadata": {},
   "outputs": [
    {
     "data": {
      "text/plain": [
       "11"
      ]
     },
     "execution_count": 56,
     "metadata": {},
     "output_type": "execute_result"
    }
   ],
   "source": [
    "soma_links = soma_dom.cssselect('a')\n",
    "len(soma_links)"
   ]
  },
  {
   "cell_type": "code",
   "execution_count": 58,
   "id": "b6831b57",
   "metadata": {},
   "outputs": [
    {
     "name": "stdout",
     "output_type": "stream",
     "text": [
      "http://brooklynbrainery.com\n",
      "http://dabbles.in\n",
      "http://www.omgmsg.com\n",
      "https://investigate.ai\n",
      "http://jonathansoma.com/singles\n",
      "http://handsomeatlas.com\n",
      "http://jonathansoma.com/notes/dosas-and-injera/\n",
      "http://jonathansoma.com/open-source-language-map\n",
      "https://tinyletter.com/jsoma\n",
      "http://twitter.com/dangerscarf\n",
      "mailto:jonathan.soma@gmail.com\n"
     ]
    }
   ],
   "source": [
    "for link in soma_links:\n",
    "    print(link.attrib['href'])"
   ]
  },
  {
   "cell_type": "code",
   "execution_count": 62,
   "id": "161a7ca2",
   "metadata": {},
   "outputs": [
    {
     "name": "stdout",
     "output_type": "stream",
     "text": [
      "Paragraph 1: I run a fake school and a paid newsletter about hobbies and have been known to talk too much about food. I love just about everything.\n",
      "---\n",
      "Paragraph 2: I've worked on baby-steps data science for journalists and lonely young men and rad old maps and pancakes and crowdsourced linguistics.\n",
      "---\n",
      "Paragraph 3: Want updates? I have a newsletter for that, too.\n",
      "---\n",
      "Paragraph 4:  \n",
      "---\n",
      "Paragraph 5: pithy = @dangerscarf lengthy = jonathan.soma@gmail.com\n",
      "---\n"
     ]
    }
   ],
   "source": [
    "soma_paras = soma_dom.cssselect('p')\n",
    "for i, p in enumerate(soma_paras):\n",
    "    print(f'Paragraph {i+1}: {p.text_content()}')\n",
    "    print(\"---\")"
   ]
  },
  {
   "cell_type": "code",
   "execution_count": 71,
   "id": "f7e26ff1",
   "metadata": {},
   "outputs": [
    {
     "name": "stdout",
     "output_type": "stream",
     "text": [
      "Paragraph 1 has 3 link(s)\n",
      "---\n",
      "Paragraph 2 has 5 link(s)\n",
      "---\n",
      "Paragraph 3 has 1 link(s)\n",
      "---\n",
      "Paragraph 4 has 0 link(s)\n",
      "---\n",
      "Paragraph 5 has 2 link(s)\n",
      "---\n"
     ]
    }
   ],
   "source": [
    "#Searching for links within paragraphs\n",
    "for i, p in enumerate(soma_dom.cssselect('p')):\n",
    "    p_links = p.cssselect(\"a\")\n",
    "    print(f\"Paragraph {i+1} has {len(p_links)} link(s)\")\n",
    "    print(\"---\")"
   ]
  },
  {
   "cell_type": "code",
   "execution_count": null,
   "id": "4f9197db",
   "metadata": {},
   "outputs": [],
   "source": []
  }
 ],
 "metadata": {
  "kernelspec": {
   "display_name": "Python 3 (ipykernel)",
   "language": "python",
   "name": "python3"
  },
  "language_info": {
   "codemirror_mode": {
    "name": "ipython",
    "version": 3
   },
   "file_extension": ".py",
   "mimetype": "text/x-python",
   "name": "python",
   "nbconvert_exporter": "python",
   "pygments_lexer": "ipython3",
   "version": "3.10.11"
  }
 },
 "nbformat": 4,
 "nbformat_minor": 5
}
